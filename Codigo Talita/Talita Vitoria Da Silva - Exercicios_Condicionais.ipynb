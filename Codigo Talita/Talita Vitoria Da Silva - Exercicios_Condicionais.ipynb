{
 "cells": [
  {
   "cell_type": "markdown",
   "id": "633160a3",
   "metadata": {},
   "source": [
    "### 📝Lista de Exercícios: Condicionais IF/ELSE"
   ]
  },
  {
   "cell_type": "markdown",
   "id": "605d2a7e",
   "metadata": {},
   "source": [
    "Exercício 1 - Maioridade 🔞\n",
    "\n",
    "Crie um programa que pergunta a idade do usuário e diz se ele é maior ou menor de idade."
   ]
  },
  {
   "cell_type": "code",
   "execution_count": null,
   "id": "93ea230f",
   "metadata": {},
   "outputs": [],
   "source": [
    "idade = int(input(\"Quantos anos você tem? \"))\n",
    "if idade >= 18:\n",
    "       print(\"Maior de idade\")\n",
    "else:\n",
    "     print(\"Menor de idade\")\n",
    "\n"
   ]
  },
  {
   "cell_type": "markdown",
   "id": "6e9528f5",
   "metadata": {},
   "source": [
    "Exercício 2 - Aprovação na Prova 🧠\n",
    "\n",
    "Faça um programa que pergunte a nota de um aluno (0 a 10) e diz se ele foi aprovado(nota >= 5) ou reprovado (nota <5)."
   ]
  },
  {
   "cell_type": "code",
   "execution_count": null,
   "id": "4a9f8f8b",
   "metadata": {},
   "outputs": [
    {
     "name": "stdout",
     "output_type": "stream",
     "text": [
      "Reprovado\n"
     ]
    }
   ],
   "source": [
    "nota = float(input(\"Informe a sua nota de (0 a 10)\"))\n",
    "if nota >= 5:\n",
    "    print(\"Aprovado\")\n",
    "else:\n",
    "    print(\"Reprovado\")\n",
    "\n"
   ]
  },
  {
   "cell_type": "markdown",
   "id": "9f8e9b92",
   "metadata": {},
   "source": [
    "Exercicio 3 - CNH 🚘🚙\n",
    "\n",
    " 1º - Peça ao usuário que digite a idade dele.\n",
    "\n",
    " 2º - Peça pra ele dizer se foi aprovado ou reprovado no curso de cnh.\n",
    "\n",
    " 3º - Use if e else para verificar se ele tem 18 anos ou mais e se foi aprovado.\n",
    "\n",
    " 4º - Se as condições do passo 3 estiverem certas, print(\"pode dirigir\").\n",
    " \n",
    " 5º - Se não print(\"vai andar a pé\")"
   ]
  },
  {
   "cell_type": "code",
   "execution_count": 1,
   "id": "bee9f043",
   "metadata": {},
   "outputs": [
    {
     "name": "stdout",
     "output_type": "stream",
     "text": [
      "Vai andar a pé\n"
     ]
    }
   ],
   "source": [
    "\n",
    "idade = int(input('Qual é a sua idade?'))\n",
    "\n",
    "if idade >= 18:\n",
    "\n",
    "    cnh = int(input('Você tem habilitação? (1 para sim/ 2 para não)'))\n",
    "    if cnh == 1:\n",
    "        print('Pode dirigir')\n",
    "    else:\n",
    "        print('Vai andar a pé')\n",
    "\n",
    "else:\n",
    "    print('Vai andar a pé')"
   ]
  },
  {
   "cell_type": "markdown",
   "id": "e9c60d12",
   "metadata": {},
   "source": [
    "Exercício 4 - Calculadora de Desconto. 💵 🤑\n",
    "\n",
    "Uma loja dá 10% de desconto para compras acima de R$ 100,00. Faça um programa que:\n",
    "\n",
    "1º - Pergunta o valor da compra.\n",
    "\n",
    "2º - Calcula o valor final com desconto (se aplicável).\n",
    "\n",
    "3º - Mostra o valor a pagar."
   ]
  },
  {
   "cell_type": "code",
   "execution_count": 17,
   "id": "5edc8855",
   "metadata": {},
   "outputs": [
    {
     "name": "stdout",
     "output_type": "stream",
     "text": [
      "Compra abaixo de R$ 100,00. sem desconto.\n"
     ]
    }
   ],
   "source": [
    "valor = float(input(\"Digite o valor da compra\"))\n",
    "if valor >=100:\n",
    "    desconto = valor * 0.10 #10%\n",
    "    valor_final = valor - desconto\n",
    "    print(f\"Você ganhou 10% de desconto!, Valor a pagar: R$ {valor_final} \")\n",
    "else:\n",
    "    valor_final = valor\n",
    "    print(\"Compra abaixo de R$ 100,00. sem desconto.\")\n"
   ]
  },
  {
   "cell_type": "markdown",
   "id": "ec96b43c",
   "metadata": {},
   "source": [
    "Exercício 5 - Classificação de Notas 🧑‍🎓\n",
    "\n",
    "Pergunte a nota de um aluno e dependendo da nota que ele informar, o classifique de acordo com as regras abaixo:\n",
    "\n",
    "Classifique a nota do aluno:\n",
    "\n",
    "- 9 até 10: \"Excelente\"\n",
    "\n",
    "- 7 até 8.9: \"Bom\"\n",
    "\n",
    "- 5 até 6.9: \"Regular\"\n",
    "\n",
    "- 0 até 4.9: \"Reprovado\"\n",
    "\n",
    "mostre para o aluno a classificação dele através de um print, exemplo print(\"Excelente\")."
   ]
  },
  {
   "cell_type": "code",
   "execution_count": null,
   "id": "465c6812",
   "metadata": {},
   "outputs": [],
   "source": [
    "nota = float(input(\"Qual a sua nota?: \"))\n",
    "if nota >= 9 and nota <=10:\n",
    "      print(\"Excelente\")\n",
    "elif nota >=7 and nota <=8.9:\n",
    "       print(\"bom\")\n",
    "elif nota >=5 and nota <=6.9:\n",
    "       print(\"regular\")\n",
    "       else "
   ]
  },
  {
   "cell_type": "markdown",
   "id": "251b0fa7",
   "metadata": {},
   "source": [
    "Exercício 6 - Acesso ao Sistema 🔑\n",
    "\n",
    "Crie um login simples:\n",
    "\n",
    "- usuario_correto = \"admin\"\n",
    "\n",
    "- senha_correta = \"1234\"\n",
    "\n",
    "**Peça para o usuário digitar primeiro o login e depois a senha, caso login e senha estejam corretos programa deve mostrar \"Acesso permitido\" se não \"Acesso negado\"**\n"
   ]
  },
  {
   "cell_type": "code",
   "execution_count": null,
   "id": "aa7bca8d",
   "metadata": {},
   "outputs": [],
   "source": []
  },
  {
   "cell_type": "code",
   "execution_count": null,
   "id": "7fcf16db",
   "metadata": {},
   "outputs": [],
   "source": [
    "usuario_correto = \"admin\"\n",
    "senha_correta = 1234\n",
    "\n",
    "usuario = input(\"Digite o usuario: \")\n",
    "senha = int(input(\"Digite a senha : \"))\n",
    "if usuario == \"caneca\" and senha == 12345:\n",
    "    print(\"acesso permitido\")\n",
    "else:\n",
    "    print(\"acesso negado\")"
   ]
  },
  {
   "cell_type": "markdown",
   "id": "46c27406",
   "metadata": {},
   "source": [
    "Exercício 7 - Maior Número 📉\n",
    "\n",
    "Peça 3 números e mostre qual é o maior deles."
   ]
  },
  {
   "cell_type": "code",
   "execution_count": 32,
   "id": "916439ff",
   "metadata": {},
   "outputs": [
    {
     "name": "stdout",
     "output_type": "stream",
     "text": [
      "O maior numero é: 12.0\n"
     ]
    }
   ],
   "source": [
    "n1 = float(input(\"Digite o primeiro numero: \"))\n",
    "n2 = float(input(\"Digite o segundo numero: \"))\n",
    "n3 = float(input(\"Digite o terceiro numero: \"))\n",
    "print(f\"O maior numero é: {n1}\")"
   ]
  },
  {
   "cell_type": "markdown",
   "id": "984fe0fe",
   "metadata": {},
   "source": [
    "Exercício 8 - Dia da Semana\n",
    "Peça um número de 1 a 7 e mostre o dia da semana correspondente: 📅\n",
    "\n",
    "- 1: Domingo\n",
    "\n",
    "- 2: Segunda\n",
    "\n",
    "- ... até 7: Sábado"
   ]
  },
  {
   "cell_type": "code",
   "execution_count": null,
   "id": "f34c6fbf",
   "metadata": {},
   "outputs": [
    {
     "name": "stdout",
     "output_type": "stream",
     "text": [
      "Numero ivalido! Digite de 1 a 7.\n"
     ]
    }
   ],
   "source": [
    "numero = int(input\"fale um numero de 1 a 7 e mostre o dia da semana\"))\n",
    "if semana == 1:\n",
    "    print(\"domimgo\")\n",
    "elif semana == 2:\n",
    "    print(\"segunda\")\n",
    "elif semana == 3:\n",
    "    print(\"terça\")\n",
    "elif semana == 4:\n",
    "    print(\"quarta\")\n",
    "elif semana == 5:\n",
    "    print(\"quinta\")\n",
    "elif semana == 6:\n",
    "    print(\"sexta\")\n",
    "elif semana == 7:\n",
    "    print(\"sabado\")\n",
    "    "
   ]
  },
  {
   "cell_type": "markdown",
   "id": "f1f760b7",
   "metadata": {},
   "source": [
    "Exercício 9 - Calculadora Simples 📏📐\n",
    "\n",
    "- Faça uma calculadora que:\n",
    "\n",
    "- Pede dois números\n",
    "\n",
    "- Pede a operação (+, -, *, /)\n",
    "\n",
    "- Dependendo da operação mostre o resultado.\n",
    "\n"
   ]
  },
  {
   "cell_type": "code",
   "execution_count": 6,
   "id": "95c6ce03",
   "metadata": {},
   "outputs": [
    {
     "name": "stdout",
     "output_type": "stream",
     "text": [
      "o resultado de {calculadora1}{operaçao}{calculadora2} é\n"
     ]
    }
   ],
   "source": [
    "calculadora1 = float(input(\"fale um numero\"))\n",
    "calculadora2 = float(input(\"fale um numero\"))\n",
    "operacao = input(\"escolha uma operaçao entre +,-,*,/\")\n",
    "if operacao == \"+\":\n",
    "    print(\"o resultado de {calculadora1}{operaçao}{calculadora2} é\")\n",
    "elif operacao == \"-\":\n",
    "    print(\"o resultado de {calculadora1}{operaçao}{calculadora2} é\")\n",
    "elif operacao == \"*\":\n",
    "    print(\"o resultado de {calculadora1}{operaçao}{calculadora2} é\")\n",
    "elif operacao == \"/\":\n",
    "    print(\"o resultado de {calculadora1}{operaçao}{calculadora2} é\")\n",
    "\n"
   ]
  },
  {
   "cell_type": "markdown",
   "id": "f39f6b73",
   "metadata": {},
   "source": [
    "Exercício 10 - Sistema de Multas 🚙🚘🧾\n",
    "\n",
    "\n",
    "- Velocidade máxima: 80 km/h 🚫\n",
    "\n",
    "- Até 80: \"Sem multa\"\n",
    "\n",
    "- 81-100: \"Multa leve\"\n",
    "\n",
    "- Acima de 100: \"Multa grave\""
   ]
  },
  {
   "cell_type": "code",
   "execution_count": 1,
   "id": "20fdc977",
   "metadata": {},
   "outputs": [
    {
     "name": "stdout",
     "output_type": "stream",
     "text": [
      "Velocidade dentro do limite . sem multa\n"
     ]
    }
   ],
   "source": [
    "velocidade = int(input(\" Digite a velocidade do carro (km/h): \"))\n",
    "if velocidade <= 80:\n",
    "    print(\"Velocidade dentro do limite . sem multa\")\n",
    "elif 81 <= velocidade <= 100: \n",
    "    print(\"Multa leve\")\n",
    "else:\n",
    "    print(\"Multa grave\")"
   ]
  }
 ],
 "metadata": {
  "kernelspec": {
   "display_name": "Python 3",
   "language": "python",
   "name": "python3"
  },
  "language_info": {
   "codemirror_mode": {
    "name": "ipython",
    "version": 3
   },
   "file_extension": ".py",
   "mimetype": "text/x-python",
   "name": "python",
   "nbconvert_exporter": "python",
   "pygments_lexer": "ipython3",
   "version": "3.13.2"
  }
 },
 "nbformat": 4,
 "nbformat_minor": 5
}
