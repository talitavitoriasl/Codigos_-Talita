{
 "cells": [
  {
   "cell_type": "markdown",
   "id": "d2b6c514",
   "metadata": {},
   "source": [
    "### 🚀 Exercícios Melhorados de Python: Listas e Loops for"
   ]
  },
  {
   "cell_type": "markdown",
   "id": "44a3875e",
   "metadata": {},
   "source": [
    "esafio:\n",
    "\n",
    "Crie um loop for para percorrer ### 🔍 1. Filtro de Filmes por Gênero 🎬\n",
    "\n",
    "Da lista de filmes e de gêneros e depois mostre na tela apenas os filmes de ação."
   ]
  },
  {
   "cell_type": "code",
   "execution_count": null,
   "id": "365515ab",
   "metadata": {},
   "outputs": [
    {
     "name": "stdout",
     "output_type": "stream",
     "text": [
      "🎬 Filmes de Ação:\n",
      "- Vingadores : Ultimato\n",
      "- Velozes e Furiosos\n",
      "- Missão Impossível\n"
     ]
    }
   ],
   "source": [
    "filmes = [\"O Poderoso Chefão\", \"Vingadores : Ultimato\", \"Toy Story\", \"Velozes e Furiosos\", \"Missão Impossível\", \"De Volta para o Futuro\",\"Zodiaco\"]\n",
    "generos = [\"Drama\", \"Ação\", \"Animação\", \"Ação\",\"Ação\", \"Aventura\", \"Suspense\"]\n",
    "\n",
    "### Seu código aqui\n",
    "\n",
    "\n",
    "filmes = [\n",
    "    \"O Poderoso Chefão\", \n",
    "    \"Vingadores : Ultimato\", \n",
    "    \"Toy Story\", \n",
    "    \"Velozes e Furiosos\", \n",
    "    \"Missão Impossível\", \n",
    "    \"De Volta para o Futuro\",\n",
    "    \"Zodiaco\"]\n",
    "\n",
    "generos = [\n",
    "    \"Drama\", \n",
    "    \"Ação\", \n",
    "    \"Animação\", \n",
    "    \"Ação\", \n",
    "    \"Ação\", \n",
    "    \"Aventura\", \n",
    "    \"Suspense\"]\n",
    "\n",
    "print(\"🎬 Filmes de Ação:\")\n",
    "for i in range(len(filmes)):\n",
    "    if generos[i] == \"Ação\":\n",
    "        print(f\"- {filmes[i]}\")\n",
    "\n",
    "\n"
   ]
  },
  {
   "cell_type": "markdown",
   "id": "4def914a",
   "metadata": {},
   "source": [
    "Agora crie um código que verfique a nota de cada filme e recomende para o usuário os filmes com notas superioes a 7.0"
   ]
  },
  {
   "cell_type": "code",
   "execution_count": 5,
   "id": "52470059",
   "metadata": {},
   "outputs": [
    {
     "name": "stdout",
     "output_type": "stream",
     "text": [
      "Filmes recomendados (nota > 7.0)\n",
      "(filmes[item], é um filme bom, te recomendo\n",
      "(filmes[item], é um filme bom, te recomendo\n",
      "(filmes[item], é um filme bom, te recomendo\n",
      "(filmes[item]) não é um filme bom, não te recomendo.\n",
      "(filmes[item], é um filme bom, te recomendo\n",
      "(filmes[item], é um filme bom, te recomendo\n",
      "(filmes[item], é um filme bom, te recomendo\n",
      "(filmes[item]) não é um filme bom, não te recomendo.\n"
     ]
    }
   ],
   "source": [
    "filmes = [\"O Poderoso Chefão\", \"Vingadores : Ultimato\", \"Toy Story\", \"Velozes e Furiosos\", \"Missão Impossível\", \"De Volta para o Futuro\", \"Zodiaco\", \"Thunderbolts\"]\n",
    "generos = [\"Drama\", \"Ação\", \"Animação\", \"Ação\",\"Ação\", \"Aventura\", \"Suspense\"]\n",
    "notas_filmes = [9.0, 9.5, 10, 5.2, 8.0, 10, 9.8, 5.5]\n",
    "\n",
    "\n",
    "\n",
    "# Recomendação de filmes com nota maior que 7.0\n",
    "print(\"Filmes recomendados (nota > 7.0)\")\n",
    "\n",
    "for item in range(len(filmes)):\n",
    "    if notas_filmes[item] > 7.0:\n",
    "        print(f\"(filmes[item], é um filme bom, te recomendo\")\n",
    "    else:\n",
    "        print(f\"(filmes[item]) não é um filme bom, não te recomendo.\")"
   ]
  },
  {
   "cell_type": "code",
   "execution_count": null,
   "id": "8ea3350e",
   "metadata": {},
   "outputs": [],
   "source": []
  },
  {
   "cell_type": "markdown",
   "id": "8c04f1b7",
   "metadata": {},
   "source": [
    "### 📊 2. Análise de Dados de Redes Sociais 📱"
   ]
  },
  {
   "cell_type": "markdown",
   "id": "939eeec4",
   "metadata": {},
   "source": [
    "Você tem uma lista de likes por postagem:\n",
    "\n",
    "Desafio:\n",
    "\n",
    "Calcule a média de likes.\n",
    "\n",
    "\n",
    "Identifique quantos posts estão acima da média e print:\n",
    "\n",
    "\n",
    "\"📈 [X] posts bombaram (+ que [média] likes)\""
   ]
  },
  {
   "cell_type": "code",
   "execution_count": null,
   "id": "5b380686",
   "metadata": {},
   "outputs": [],
   "source": [
    "## Nome dos influencers\n",
    "influencers = [\"Virginia\", \"Carlinhos Maia\", \"Deolane\", \"Poze\", \"Matheus Costa\",\"Zé Felipe\"]\n",
    "### likes por post\n",
    "like_posts = [120, 245, 89, 310, 42, 178] \n",
    "## Calcula o total de likes da lista\n",
    "total_likes = sum(like_posts)\n",
    "\n",
    "# Sua vez calcule á media de likes\n",
    "\n",
    "# Depois veja qual influencer teve likes acima da média\n",
    "\n",
    "\n",
    "\n"
   ]
  },
  {
   "cell_type": "markdown",
   "id": "d7cfa84f",
   "metadata": {},
   "source": [
    "### 🎯 Bônus Extra: Desafio dos Emojis Aleatórios\n",
    "\n",
    "✅ Gere uma lista de 10 emojis aleatórios (use [\"🐍\", \"🔥\", \"🎮\", \"👾\", \"🚀\"]) e:\n",
    "\n",
    "✅ Conte quantas vezes \"🔥\" aparece.\n",
    "\n",
    "\n",
    "✅ Substitua \"🎮\" por \"💻\".\n",
    "\n",
    "\n",
    "✅ Print a lista final."
   ]
  },
  {
   "cell_type": "code",
   "execution_count": 7,
   "id": "28ab2513",
   "metadata": {},
   "outputs": [
    {
     "name": "stdout",
     "output_type": "stream",
     "text": [
      "4\n",
      "['🐍', '🔥', '💻', '👾', '🚀', '🔥', '🔥', '🔥', '🔥🔥🚀🔥🔥🔥🚀🔥🔥🔥🔥👾🔥🔥🔥🔥🔥🚀🔥🔥🔥🔥🔥🔥🔥👾🔥🔥🔥🔥🔥🔥🔥🚀🔥🔥🔥', '🔥🔥']\n"
     ]
    }
   ],
   "source": [
    "lista_emojis = [\"🐍\", \"🔥\", \"🎮\", \"👾\", \"🚀\",\"🔥\",\"🔥\",\"🔥\",\"🔥🔥🚀🔥🔥🔥🚀🔥🔥🔥🔥👾🔥🔥🔥🔥🔥🚀🔥🔥🔥🔥🔥🔥🔥👾🔥🔥🔥🔥🔥🔥🔥🚀🔥🔥🔥\",\"🔥🔥\"]\n",
    "\n",
    "print(lista_emojis.count(\"🔥\"))\n",
    "\n",
    "lista_emojis[2] = \"💻\"\n",
    "\n",
    "print(lista_emojis)\n"
   ]
  }
 ],
 "metadata": {
  "kernelspec": {
   "display_name": "Python 3",
   "language": "python",
   "name": "python3"
  },
  "language_info": {
   "codemirror_mode": {
    "name": "ipython",
    "version": 3
   },
   "file_extension": ".py",
   "mimetype": "text/x-python",
   "name": "python",
   "nbconvert_exporter": "python",
   "pygments_lexer": "ipython3",
   "version": "3.13.2"
  }
 },
 "nbformat": 4,
 "nbformat_minor": 5
}
