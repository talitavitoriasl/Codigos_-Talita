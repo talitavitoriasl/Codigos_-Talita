{
 "cells": [
  {
   "cell_type": "markdown",
   "id": "8e7a3a05",
   "metadata": {},
   "source": [
    "### 📝 Lista de Exercícios: Strings + Condicionais\n",
    "\n",
    "# Métodos\n",
    "\n",
    "| Método | Descrição | Exemplo | Resultado |\n",
    "|--------|-----------|---------|-----------|\n",
    "| **`upper()`** | Converte toda a string para maiúsculas | `\"python\".upper()` | `'PYTHON'` |\n",
    "| **`lower()`** | Converte toda a string para minúsculas | `\"PYTHON\".lower()` | `'python'` |\n",
    "| **`capitalize()`** | Primeira letra maiúscula, resto minúsculas | `\"python\".capitalize()` | `'Python'` |\n",
    "| **`title()`** | Primeira letra de cada palavra maiúscula | `\"hello world\".title()` | `'Hello World'` |\n",
    "| **`strip()`** | Remove espaços em branco no início e fim | `\"  hello  \".strip()` | `'hello'` |\n",
    "| **`lstrip()`** | Remove espaços apenas no início | `\"  hello  \".lstrip()` | `'hello  '` |\n",
    "| **`rstrip()`** | Remove espaços apenas no final | `\"  hello  \".rstrip()` | `'  hello'` |\n",
    "| **`replace(old, new)`** | Substitui parte da string | `\"hello\".replace(\"l\", \"x\")` | `'hexxo'` |\n",
    "| **`split(sep)`** | Divide a string em uma lista | `\"a,b,c\".split(\",\")` | `['a', 'b', 'c']` |\n",
    "| **`join(iterable)`** | Junta elementos com a string como separador | `\",\".join(['a','b','c'])` | `'a,b,c'` |\n",
    "| **`find(sub)`** | Retorna índice da primeira ocorrência | `\"hello\".find(\"l\")` | `2` |\n",
    "| **`rfind(sub)`** | Retorna índice da última ocorrência | `\"hello\".rfind(\"l\")` | `3` |\n",
    "| **`index(sub)`** | Como find(), mas levanta erro se não encontrar | `\"hello\".index(\"l\")` | `2` |\n",
    "| **`count(sub)`** | Conta ocorrências de substring | `\"hello\".count(\"l\")` | `2` |\n",
    "| **`startswith(prefix)`** | Verifica se começa com prefixo | `\"hello\".startswith(\"he\")` | `True` |\n",
    "| **`endswith(suffix)`** | Verifica se termina com sufixo | `\"hello\".endswith(\"lo\")` | `True` |\n",
    "| **`isalpha()`** | Verifica se todos são caracteres alfabéticos | `\"hello\".isalpha()` | `True` |\n",
    "| **`isdigit()`** | Verifica se todos são dígitos | `\"123\".isdigit()` | `True` |\n",
    "| **`isalnum()`** | Verifica se são alfanuméricos | `\"abc123\".isalnum()` | `True` |\n",
    "| **`isspace()`** | Verifica se são espaços em branco | `\"   \".isspace()` | `True` |\n",
    "| **`islower()`** | Verifica se todas as letras são minúsculas | `\"hello\".islower()` | `True` |\n",
    "| **`isupper()`** | Verifica se todas as letras são maiúsculas | `\"HELLO\".isupper()` | `True` |\n"
   ]
  },
  {
   "cell_type": "markdown",
   "id": "5d1bbbdb",
   "metadata": {},
   "source": [
    "💻 Exercício 1 - Verificador de E-mail Simples\n",
    "\n",
    "Verifique se um e-mail contém o símbolo \"@\" e termina com \".com\""
   ]
  },
  {
   "cell_type": "code",
   "execution_count": null,
   "id": "681b656c",
   "metadata": {},
   "outputs": [],
   "source": [
    "email = input(\"Digite seu e-mail: \")\n",
    "if \"@\" in email and email.endswith(\".com\"):\n",
    "    print(\"E-mail válido!\")\n",
    "else:\n",
    "    print(\"E-mail inválido Verifique se contém \"@\" e termina com \".com\".\")\n"
   ]
  },
  {
   "cell_type": "code",
   "execution_count": 4,
   "id": "eba3ca5a",
   "metadata": {},
   "outputs": [
    {
     "name": "stdout",
     "output_type": "stream",
     "text": [
      "a letra é minúscula\n"
     ]
    }
   ],
   "source": [
    "letra = input(\"Digite uma letra: \")\n",
    "if len(letra) == 1 and letra.isalpha():\n",
    "    if letra.isupper():\n",
    "        print(\"A letra é MAIÚSCULAS.\")\n",
    "    else:\n",
    "         print(\"a letra é minúscula\")\n",
    "else:\n",
    "    print(\"Entrada inválida. Digite apenas UMA letra do alfabeto.\")\n",
    "\n"
   ]
  },
  {
   "cell_type": "markdown",
   "id": "943c69eb",
   "metadata": {},
   "source": [
    "🥷 Exercício 3 - Verificador de Senha Forte\n",
    "\n",
    "Peça para o usuário criar uma senha e verifique se a senha criada é forte.\n",
    "\n",
    "\n",
    "Uma senha é forte se:\n",
    "\n",
    "- Tem pelo menos 8 caracteres\n",
    "\n",
    "- Contém pelo menos um número\n",
    "\n",
    "- Contém pelo menos uma letra maiúscula"
   ]
  },
  {
   "cell_type": "code",
   "execution_count": null,
   "id": "01e44abe",
   "metadata": {},
   "outputs": [],
   "source": [
    "senha = input(\"crie uma senha forte: \")\n",
    "tem_8_caracteres = len(senha) >=8\n",
    "tem_numero = any(caractere.indigit() for caracteres in senha)\n",
    "tem_maiuscula = any(caractere.insupper() for caractere in senha)\n",
    "if tem_8 _caracteres and tem_numero and tem_maiuscula:\n",
    "    print(\"Senha forte\")\n",
    "else:\n",
    "    print(\"senha fraca\")\n",
    "    print(\" a senha deve ter:\")\n",
    "    if not tem_8_caracteres:\n",
    "        print(\"- pelo menos 8 caracteres\")\n",
    "     if not tem_numero:\n",
    "        print(\"- pelo menos um número\")\n",
    "    if not tem_maiuscula:\n",
    "     print(\"- pelo menos uma letra maiuscula\")\n",
    "\n"
   ]
  },
  {
   "cell_type": "markdown",
   "id": "f1ced8d1",
   "metadata": {},
   "source": [
    "🧾 Exercício 4 - Inicial do Nome\n",
    "\n",
    "Peça o nome completo e diga se a primeira letra é vogal ou consoante."
   ]
  },
  {
   "cell_type": "code",
   "execution_count": null,
   "id": "a64c050f",
   "metadata": {},
   "outputs": [],
   "source": [
    "nome = input(\"Digite seu nome completo: \").strip().lower()\n",
    "primeira_letra = nome[0]\n",
    "vogais = ['a', 'e' , 'i', 'o' , 'u']\n",
    "if primeira_letra == 'l':\n",
    "    print(\"A primeira letra é  'l'.\")\n",
    "elif primeira_letra not in vogais:\n",
    "    print(\"A primeira letra é uma consoante.\")\n",
    "else:\n",
    "    print(\"A primeira letra não é uma consoante ( é uma vogal).\")\n",
    "    \n"
   ]
  },
  {
   "cell_type": "markdown",
   "id": "6d862740",
   "metadata": {},
   "source": [
    "😒 Exercício 5 - Comparador de Strings\n",
    "\n",
    "Peça duas palavras e diga se são iguais ou diferentes."
   ]
  },
  {
   "cell_type": "code",
   "execution_count": null,
   "id": "314aec0a",
   "metadata": {},
   "outputs": [],
   "source": [
    "palavra1 = input(\"Digite sua primeira palavra: \").strip()\n",
    "palavra2 = input(\"Digite sua segunda palavra: \").strip()\n",
    "if palavra1 == palavra2:\n",
    "    print(\" As palavras sao iguais.\")\n",
    "else:\n",
    "    print(\"As palavras sao diferentes.\")"
   ]
  },
  {
   "cell_type": "markdown",
   "id": "0563de29",
   "metadata": {},
   "source": [
    "🏟️ Exercício 6 - Verificador de CEP\n",
    "\n",
    "Um CEP válido deve ter exatamente 8 dígitos numéricos."
   ]
  },
  {
   "cell_type": "code",
   "execution_count": 1,
   "id": "d3b541d0",
   "metadata": {},
   "outputs": [
    {
     "name": "stdout",
     "output_type": "stream",
     "text": [
      "CEP inválido!\n"
     ]
    }
   ],
   "source": [
    "def verificar_cep(cep):\n",
    "    return len(cep) == 8 and cep.isdigit()\n",
    "\n",
    "cep = input(\"Digite o CEP: \")\n",
    "if verificar_cep(cep):\n",
    "    print(\"CEP válido!\")\n",
    "else:\n",
    "    print(\"CEP inválido!\")\n"
   ]
  },
  {
   "cell_type": "markdown",
   "id": "e6162561",
   "metadata": {},
   "source": [
    "🧾 Exercício 7 - Iniciais Iguais\n",
    "\n",
    "Peça duas palavras e verifique se começam com a mesma letra.\n"
   ]
  },
  {
   "cell_type": "code",
   "execution_count": null,
   "id": "b49ac0b0",
   "metadata": {},
   "outputs": [],
   "source": [
    "palavra1 = input(\"Digite sua primeira palavra: \").strip()\n",
    "palavra2 = input(\"Digite sua segunda palavra: \").strip()\n",
    "if palavra1 == palavra2:\n",
    "    print(\" Começa com a mesma letra\")\n",
    "else:\n",
    "    print(\"Nao começa com a mesma letra\")"
   ]
  },
  {
   "cell_type": "markdown",
   "id": "42ec22e4",
   "metadata": {},
   "source": [
    "🔤 Exercício 8 - Termina com Vogal\n",
    "\n",
    "Peça uma palavra ao usuário e diga se termina com vogal."
   ]
  },
  {
   "cell_type": "code",
   "execution_count": 3,
   "id": "015ea656",
   "metadata": {},
   "outputs": [
    {
     "name": "stdout",
     "output_type": "stream",
     "text": [
      "A palavra não termina com vogal.\n"
     ]
    }
   ],
   "source": [
    "\n",
    "palavra = input(\"Digite uma palavra: \").strip()\n",
    "if palavra[-1].lower() in \"aeiou\":\n",
    "    print(\"A palavra termina com vogal.\")\n",
    "else:\n",
    "    print(\"A palavra não termina com vogal.\")\n"
   ]
  },
  {
   "cell_type": "markdown",
   "id": "b1ed319e",
   "metadata": {},
   "source": [
    "🤖 Exercício 9 - Verificador de CPF Simples\n",
    "\n",
    "Verifique se um CPF tem 11 dígitos numéricos."
   ]
  },
  {
   "cell_type": "code",
   "execution_count": null,
   "id": "26966137",
   "metadata": {},
   "outputs": [],
   "source": [
    "cpf = input(\"Digite o CPF (somente números): \").strip()\n",
    "\n",
    "if len(cpf) == 11 and cpf.isdigit():\n",
    "    print(\"CPF válido no formato (11 dígitos numéricos).\")\n",
    "else:\n",
    "    print(\"CPF inválido! Deve conter exatamente 11 dígitos numéricos.\")\n"
   ]
  },
  {
   "cell_type": "markdown",
   "id": "cf0c7496",
   "metadata": {},
   "source": [
    "💵 Exercicio 10 - Conversor de Moeda\n",
    "\n",
    "Converta Real para Dólar (use taxa fixa)."
   ]
  },
  {
   "cell_type": "code",
   "execution_count": null,
   "id": "6e3a618f",
   "metadata": {},
   "outputs": [],
   "source": [
    "dolar = 5.44\n",
    "real = float(input(\"Informe a quantidade de dinheiro em real \"))\n",
    "\n",
    "### complete o código\n",
    "taxa_cambio = 5.00  # 1 dólar = 5 reais\n",
    "valor_real = float(input(\"Digite o valor em Reais (R$): \"))\n",
    "valor_dolar = valor_real / taxa_cambio\n",
    "print(f\"R${valor_real:.2f} equivalem a US${valor_dolar:.2f} com a taxa de câmbio de {taxa_cambio:.2f} BRL/USD.\")\n",
    "\n",
    "\n",
    "\n",
    "## exemplo 1 real brasileiro, vale 0.18 centavos de dolar."
   ]
  },
  {
   "cell_type": "markdown",
   "id": "91fec7e1",
   "metadata": {},
   "source": [
    "💵 Exercicio 11 - Conversor de Moeda\n",
    "\n",
    "Converta Dólar para Real (use taxa fixa)."
   ]
  },
  {
   "cell_type": "code",
   "execution_count": 1,
   "id": "13b781b5",
   "metadata": {},
   "outputs": [
    {
     "name": "stdout",
     "output_type": "stream",
     "text": [
      "R$ 257.00 equivalem a U$ 47.24\n"
     ]
    }
   ],
   "source": [
    "dolar = 5.44\n",
    "real = float(input(\"Informe a quantidade de dinheiro em real \"))\n",
    "\n",
    "### complete o código\n",
    "dolar = 5.44  # Taxa de câmbio fixa: 1 USD = 5.44 BRL\n",
    "real = float(input(\"Informe a quantidade de dinheiro em real: \"))\n",
    "\n",
    "# Conversão\n",
    "valor_em_dolar = real / dolar\n",
    "\n",
    "# Resultado formatado\n",
    "print(f\"R$ {real:.2f} equivalem a U$ {valor_em_dolar:.2f}\")\n",
    "\n",
    "\n"
   ]
  }
 ],
 "metadata": {
  "kernelspec": {
   "display_name": "Python 3",
   "language": "python",
   "name": "python3"
  },
  "language_info": {
   "codemirror_mode": {
    "name": "ipython",
    "version": 3
   },
   "file_extension": ".py",
   "mimetype": "text/x-python",
   "name": "python",
   "nbconvert_exporter": "python",
   "pygments_lexer": "ipython3",
   "version": "3.13.2"
  }
 },
 "nbformat": 4,
 "nbformat_minor": 5
}
