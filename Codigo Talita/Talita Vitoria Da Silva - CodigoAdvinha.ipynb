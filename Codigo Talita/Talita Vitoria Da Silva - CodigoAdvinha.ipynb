{
 "cells": [
  {
   "cell_type": "markdown",
   "id": "4f7a1d42",
   "metadata": {},
   "source": [
    "### Jogo de advinhação\n",
    "\n",
    "Vamos criar um jogo que advinha o número que o usuário digitou!!\n"
   ]
  },
  {
   "cell_type": "code",
   "execution_count": 1,
   "id": "5fa02260",
   "metadata": {},
   "outputs": [
    {
     "name": "stdout",
     "output_type": "stream",
     "text": [
      "Jogo de advinhação!!! Boa Sorte!!\n",
      "------------------------------------\n",
      "Hahah idiota, aposto que acertei o numero que voce digitou, me deve 100zão.\n",
      "Aposto que o numero foi 25.0\n"
     ]
    }
   ],
   "source": [
    "print(\"Jogo de advinhação!!! Boa Sorte!!\")\n",
    "print(\"------------------------------------\")\n",
    "## o número deve ser float, pois deve aceitar tanto números inteiros, quanto números quebrados\n",
    "numero_usuario = float (input(\" Digite um numero seu bobão :\"))\n",
    "print(f\"Hahah idiota, aposto que acertei o numero que voce digitou, me deve 100zão.\")\n",
    "print(f\"Aposto que o numero foi {numero_usuario}\")\n"
   ]
  },
  {
   "cell_type": "markdown",
   "id": "56cf80bf",
   "metadata": {},
   "source": [
    "### Meu carro do sonho\n",
    "\n",
    "Vamos pedir para o usuário nos informar o nome do carro e o preço do carro dos sonhos deles."
   ]
  },
  {
   "cell_type": "code",
   "execution_count": 1,
   "id": "7d9330a4",
   "metadata": {},
   "outputs": [
    {
     "name": "stdout",
     "output_type": "stream",
     "text": [
      "O carro que vc deseja é civic\n",
      "O valor do carro é 2300000000.0, a quantia que vc possui é 14000000.0 , faltam exatamente 2286000000.0 reais para vc comprar o carro\n"
     ]
    }
   ],
   "source": [
    "# 1º Primeiro peça ao usuário o nome do carro dos sonhos:\n",
    "nome_carro = input(\"Informe o nome do seu carro do sonho:\")\n",
    "# 2º Peça o preço do carro dos sonhos\n",
    "preço = float(input (\"Digite o preço do carro : \"))\n",
    "# 3º Pergunte quanto dinheiro o usuário tem e guarde o valor em uma variável\n",
    "dinheiro = float(input ( \"Digite quanto de dinheiro vc já tem : \"))\n",
    "# 4º Calcule quanto falta para o usuário conseguir comprar o carro\n",
    "falta = preço - dinheiro\n",
    "# 5º Mostre na tela o nome do carro o preço dele e quanto falta para o usuário realizar o sonho dele.\n",
    "print(f\"O carro que vc deseja é {nome_carro}\")\n",
    "print(f\"O valor do carro é {preço}, a quantia que vc possui é {dinheiro} , faltam exatamente { falta} reais para vc comprar o carro\")\n",
    "\n",
    "\n",
    "\n",
    "\n"
   ]
  },
  {
   "cell_type": "markdown",
   "id": "d28ba737",
   "metadata": {},
   "source": [
    "### Agenda de Celular\n",
    "\n",
    "Peça ao usuário que informe o nome dele e o número do telefone dele\n",
    "\n",
    "Depois mostre ao usuário print() com uma mensagem o nome dele e o número do telefone"
   ]
  },
  {
   "cell_type": "code",
   "execution_count": 17,
   "id": "3037f6bb",
   "metadata": {},
   "outputs": [
    {
     "name": "stdout",
     "output_type": "stream",
     "text": [
      "0 seu nome é talita e o  seu numero de telefone é 11964454157 \n"
     ]
    }
   ],
   "source": [
    "# preciso pedir o nome do usuário\n",
    "nome = input( \" Digite seu nome: \")\n",
    "#preciso pedir o telefone\n",
    "telefone = input(\"Digite o seu numero de telefone: \")\n",
    "# mostrar as informações\n",
    "print(f\"0 seu nome é {nome} e o  seu numero de telefone é {telefone} \")\n"
   ]
  },
  {
   "cell_type": "markdown",
   "id": "3312349f",
   "metadata": {},
   "source": [
    "### Adivinha a idade\n",
    "\n",
    "preciso do ano do nascimento e o ano atual\n",
    "\n",
    "formula = ano_atual - ano_nascimento\n",
    "\n",
    "tipo da variavel int"
   ]
  },
  {
   "cell_type": "code",
   "execution_count": 2,
   "id": "4d8cbcc1",
   "metadata": {},
   "outputs": [
    {
     "name": "stdout",
     "output_type": "stream",
     "text": [
      "meu ano de nascimento é 1996,estamos no ano 2025, e minha idade é 29 : \n"
     ]
    }
   ],
   "source": [
    "ano_nascimento = int(input(\" digite sua data de nascimento\"))\n",
    "ano_atual = int(input(\"digite o ano atual: \"))\n",
    "resultado = ano_atual - ano_nascimento\n",
    "print(f\"meu ano de nascimento é {ano_nascimento},estamos no ano {ano_atual}, e minha idade é {resultado} : \")"
   ]
  }
 ],
 "metadata": {
  "kernelspec": {
   "display_name": "Python 3",
   "language": "python",
   "name": "python3"
  },
  "language_info": {
   "codemirror_mode": {
    "name": "ipython",
    "version": 3
   },
   "file_extension": ".py",
   "mimetype": "text/x-python",
   "name": "python",
   "nbconvert_exporter": "python",
   "pygments_lexer": "ipython3",
   "version": "3.13.2"
  }
 },
 "nbformat": 4,
 "nbformat_minor": 5
}
