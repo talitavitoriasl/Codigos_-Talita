{
 "cells": [
  {
   "cell_type": "markdown",
   "id": "6c085d48",
   "metadata": {},
   "source": [
    "### Lista de Exercícios Básicos de Manipulação de Arquivos CSV\n",
    "\n",
    "Aqui está uma lista de exercícios progressivos para praticar manipulação de arquivos CSV em Python."
   ]
  },
  {
   "cell_type": "markdown",
   "id": "7e788390",
   "metadata": {},
   "source": [
    "Exercício 1: Criando um arquivo CSV simples\n",
    "\n",
    "Crie um arquivo chamado alunos.csv com os seguintes dados:\n",
    "\n",
    "Nome,Idade,Nota\n",
    "\n",
    "\n",
    "Ana,17,8.5\n",
    "\n",
    "\n",
    "João,16,7.0\n",
    "\n",
    "\n",
    "Maria,18,9.0"
   ]
  },
  {
   "cell_type": "code",
   "execution_count": 10,
   "id": "d74802d2",
   "metadata": {},
   "outputs": [],
   "source": [
    "import csv\n",
    "\n",
    "dados = [\n",
    "    [\"nome\", \"idade\", \"nota\"],\n",
    "    [\"Ana\", 17, 8.5],\n",
    "    [\"João\", 16, 7.0],\n",
    "    [\"Maria\", 18, 9.0]\n",
    "]\n",
    "\n",
    "with open(\"alunos.csv\", \"w\", newline='', encoding=\"utf-8\") as arquivo:\n",
    "    escritor = csv.writer(arquivo)\n",
    "    escritor.writerows(dados)\n"
   ]
  },
  {
   "cell_type": "markdown",
   "id": "1801190f",
   "metadata": {},
   "source": [
    "Exercício 2: Lendo um arquivo CSV\n",
    "\n",
    "Leia o arquivo alunos.csv e mostre todos os dados na tela."
   ]
  },
  {
   "cell_type": "code",
   "execution_count": 11,
   "id": "d9f2b6da",
   "metadata": {},
   "outputs": [
    {
     "name": "stdout",
     "output_type": "stream",
     "text": [
      "nome,idade,nota\n",
      "Ana,17,8.5\n",
      "João,16,7.0\n",
      "Maria,18,9.0\n",
      "\n"
     ]
    }
   ],
   "source": [
    "import csv\n",
    "\n",
    "with open('Alunos.csv', 'r', encoding='utf-8') as f:\n",
    "    conteudo = f.read()\n",
    "    print(conteudo)"
   ]
  },
  {
   "cell_type": "markdown",
   "id": "1c230648",
   "metadata": {},
   "source": [
    "Exercício 3: Adicionando um novo aluno\n",
    "\n",
    "Peça ao usuário para digitar os dados de um novo aluno e adicione-o ao arquivo CSV."
   ]
  },
  {
   "cell_type": "code",
   "execution_count": 2,
   "id": "41891bb5",
   "metadata": {},
   "outputs": [],
   "source": [
    "nome = input(\"Nome: \")\n",
    "idade = int(input(\"Idade:\"))\n",
    "nota = float(input(\"Nota:\"))\n",
    "\n",
    "\n",
    "with open(\"alunos.csv\", \"a\", newline='', encoding=\"utf-8\") as arquivo:\n",
    "    escritor = csv.writer(arquivo)\n",
    "    escritor.writerow([nome, idade , nota])"
   ]
  },
  {
   "cell_type": "markdown",
   "id": "90ceb918",
   "metadata": {},
   "source": [
    "Exercício 4: Calculando a média das notas\n",
    "\n",
    "Calcule e mostre a média das notas de todos os alunos."
   ]
  },
  {
   "cell_type": "code",
   "execution_count": 1,
   "id": "121ec765",
   "metadata": {},
   "outputs": [
    {
     "name": "stdout",
     "output_type": "stream",
     "text": [
      "2.8333333333333335\n",
      "5.166666666666667\n",
      "8.166666666666666\n"
     ]
    }
   ],
   "source": [
    "import csv\n",
    "\n",
    "dados = [\n",
    "    [\"nome\", \"idade\", \"nota\"],\n",
    "    [\"Ana\", 17, 8.5],\n",
    "    [\"João\", 16, 7.0],\n",
    "    [\"Maria\", 18, 9.0]\n",
    "]\n",
    "soma=0\n",
    "for i in range(1,len(dados)):\n",
    "    soma+=dados[i][2]\n",
    "\n",
    "    media=soma / (len(dados)-1)\n",
    "    print(media)"
   ]
  },
  {
   "cell_type": "markdown",
   "id": "cb646ca2",
   "metadata": {},
   "source": [
    "Exercício 5: Filtrando alunos\n",
    "\n",
    "Mostre apenas os alunos com nota maior ou igual a 8.0."
   ]
  },
  {
   "cell_type": "code",
   "execution_count": null,
   "id": "7b9a839d",
   "metadata": {},
   "outputs": [],
   "source": [
    "with open(\"alunos.csv\", \"r\", encoding= \"utf-8\") as arquivo:\n",
    "\n",
    "    leitor= csv.reader(arquivo)\n",
    "    next(leitor)\n",
    "    for linha in leitor:\n",
    "        nota = float(linha[2])\n",
    "        if nota >= 8.0:\n",
    "            print(nota)"
   ]
  },
  {
   "cell_type": "markdown",
   "id": "56736dca",
   "metadata": {},
   "source": [
    "Exercício 6: Criando um dicionário de alunos\n",
    "\n",
    "Leia o arquivo CSV usando csv.DictReader e mostre os dados como dicionários."
   ]
  },
  {
   "cell_type": "code",
   "execution_count": 1,
   "id": "06fdea7c",
   "metadata": {},
   "outputs": [
    {
     "name": "stdout",
     "output_type": "stream",
     "text": [
      "{'nome': 'Maria', 'idade': '30', 'curso': 'Python'}\n",
      "{'nome': 'João', 'idade': '25', 'curso': 'Data Science'}\n"
     ]
    }
   ],
   "source": [
    "import csv\n",
    "\n",
    "\n",
    "with open(\"alunos.csv\", \"r\", encoding=\"utf-8\") as arquivo:\n",
    "    \n",
    "    # DictReader transforma cada linha em um dicionário, usando o cabeçalho como chave.\n",
    "    leitor = csv.DictReader(arquivo)\n",
    "    \n",
    "    for linha in leitor:\n",
    "        print(linha)"
   ]
  },
  {
   "cell_type": "markdown",
   "id": "3c05675b",
   "metadata": {},
   "source": [
    "Exercício 7: Atualizando notas\n",
    "\n",
    "Aumente em 1.0 a nota de todos os alunos e salve no arquivo alunos_atualizados.csv."
   ]
  },
  {
   "cell_type": "code",
   "execution_count": 45,
   "id": "4bd26755",
   "metadata": {},
   "outputs": [
    {
     "name": "stdout",
     "output_type": "stream",
     "text": [
      "[['Ana', '7.0', 8.0]]\n",
      "[['Ana', '7.0', 8.0], ['João', '5.0', 6.0]]\n",
      "[['Ana', '7.0', 8.0], ['João', '5.0', 6.0], ['Maria', '4.0', 5.0]]\n"
     ]
    }
   ],
   "source": [
    "with open(\"notas.csv\", \"r\", encoding= \"utf-8\")as arquivo:\n",
    "    notas_atualizadas = []\n",
    "    leitor = csv.reader(arquivo)                \n",
    "    next(leitor)\n",
    "    for linha in leitor:\n",
    "        nota = float(linha[1])+1.0 \n",
    "        notas_atualizadas.append([linha[0], linha[1], min(nota, 10.0)])\n",
    "\n",
    "\n",
    "\n",
    "        print(notas_atualizadas)\n",
    "\n",
    "                  \n",
    "\n",
    "with open(\"notas_atualizadas.csv\", \"w\", newline='', encoding=\"utf-8\") as arquivo:\n",
    "    escritor = csv.writer(arquivo)\n",
    "    escritor.writerows(dados)\n",
    "    escritor.writerows(notas_atualizadas)"
   ]
  },
  {
   "cell_type": "markdown",
   "id": "2987ecdb",
   "metadata": {},
   "source": [
    "Exercício 8: Contando alunos por idade\n",
    "\n",
    "Conte quantos alunos existem em cada idade e mostre o resultado."
   ]
  },
  {
   "cell_type": "code",
   "execution_count": null,
   "id": "35053a80",
   "metadata": {},
   "outputs": [
    {
     "ename": "NameError",
     "evalue": "name 'Counter' is not defined",
     "output_type": "error",
     "traceback": [
      "\u001b[31m---------------------------------------------------------------------------\u001b[39m",
      "\u001b[31mNameError\u001b[39m                                 Traceback (most recent call last)",
      "\u001b[36mCell\u001b[39m\u001b[36m \u001b[39m\u001b[32mIn[34]\u001b[39m\u001b[32m, line 2\u001b[39m\n\u001b[32m      1\u001b[39m idades = [\u001b[32m16\u001b[39m,\u001b[32m17\u001b[39m,\u001b[32m18\u001b[39m]\n\u001b[32m----> \u001b[39m\u001b[32m2\u001b[39m contagem =  \u001b[43mCounter\u001b[49m(idades)\n\u001b[32m      4\u001b[39m \u001b[38;5;28mprint\u001b[39m(\u001b[33m\"\u001b[39m\u001b[33mQuantidade de alunos por idade:\u001b[39m\u001b[33m\"\u001b[39m)\n\u001b[32m      5\u001b[39m \u001b[38;5;28;01mfor\u001b[39;00m idade, qtd \u001b[38;5;129;01min\u001b[39;00m contagem.items():\n",
      "\u001b[31mNameError\u001b[39m: name 'Counter' is not defined"
     ]
    }
   ],
   "source": []
  },
  {
   "cell_type": "markdown",
   "id": "7b168846",
   "metadata": {},
   "source": [
    "Exercício 9: Juntando arquivos CSV\n",
    "\n",
    "Crie um novo arquivo turma_completa.csv que combine os dados de alunos.csv e alunos_atualizados.csv (use a nota do arquivo atualizado)."
   ]
  },
  {
   "cell_type": "code",
   "execution_count": null,
   "id": "41d1d918",
   "metadata": {},
   "outputs": [],
   "source": []
  },
  {
   "cell_type": "markdown",
   "id": "4fba760c",
   "metadata": {},
   "source": [
    "### Desafio Final ! 🚨🚨🚨🚨🚨🚨\n",
    "\n",
    "Esse é só para as lendas 😎😎😎\n",
    "\n",
    "Exercício 10: Gerando relatório de desempenho\n",
    "\n",
    "Crie um programa que gera um novo arquivo relatorio.csv com informações agregadas:\n",
    "\n",
    "- Nome do aluno\n",
    "\n",
    "\n",
    "- Nota original\n",
    "\n",
    "\n",
    "- Situação (\"Aprovado\" se nota >= 7.0, \"Recuperação\" se == 5.0, \"Reprovado\" caso contrário)\n",
    "\n"
   ]
  },
  {
   "cell_type": "code",
   "execution_count": null,
   "id": "67bc0a14",
   "metadata": {},
   "outputs": [
    {
     "name": "stdout",
     "output_type": "stream",
     "text": [
      "['nome', 'nota']\n",
      "['Ana', '7.0']\n",
      "['João', '5.0']\n",
      "['Maria', '4.0']\n"
     ]
    },
    {
     "ename": "ValueError",
     "evalue": "I/O operation on closed file.",
     "output_type": "error",
     "traceback": [
      "\u001b[31m---------------------------------------------------------------------------\u001b[39m",
      "\u001b[31mValueError\u001b[39m                                Traceback (most recent call last)",
      "\u001b[36mCell\u001b[39m\u001b[36m \u001b[39m\u001b[32mIn[38]\u001b[39m\u001b[32m, line 41\u001b[39m\n\u001b[32m     37\u001b[39m escritor = csv.DictWriter(arquivo_saida, fieldnames=campos)\n\u001b[32m     39\u001b[39m escritor.writeheader()\n\u001b[32m---> \u001b[39m\u001b[32m41\u001b[39m \u001b[43m\u001b[49m\u001b[38;5;28;43;01mfor\u001b[39;49;00m\u001b[43m \u001b[49m\u001b[43mlinha\u001b[49m\u001b[43m \u001b[49m\u001b[38;5;129;43;01min\u001b[39;49;00m\u001b[43m \u001b[49m\u001b[43mleitor\u001b[49m\u001b[43m:\u001b[49m\n\u001b[32m     42\u001b[39m \u001b[43m    \u001b[49m\u001b[38;5;28;43mprint\u001b[39;49m\u001b[43m(\u001b[49m\u001b[43mlinha\u001b[49m\u001b[43m)\u001b[49m\n\u001b[32m     43\u001b[39m \u001b[43m    \u001b[49m\u001b[43mnome\u001b[49m\u001b[43m \u001b[49m\u001b[43m=\u001b[49m\u001b[43m \u001b[49m\u001b[43mlinha\u001b[49m\u001b[43m[\u001b[49m\u001b[33;43m'\u001b[39;49m\u001b[33;43mNome\u001b[39;49m\u001b[33;43m'\u001b[39;49m\u001b[43m]\u001b[49m\n",
      "\u001b[31mValueError\u001b[39m: I/O operation on closed file."
     ]
    }
   ],
   "source": [
    "import csv\n",
    "dados = [\n",
    "    [\"nome\", \"nota\",],\n",
    "    [\"Ana\", 7.0 ,],\n",
    "    [\"João\", 5.0,],\n",
    "    [\"Maria\",  4.0,], \n",
    "]\n",
    "\n",
    "with open(\"notas.csv\", \"w\", newline='', encoding=\"utf-8\") as arquivo:\n",
    "    escritor = csv.writer(arquivo)\n",
    "    escritor.writerows(dados)\n",
    "# Função para determinar a situação\n",
    "def determinar_situacao(nota):\n",
    "    if nota >= 7.0:\n",
    "        return \"Aprovado\"\n",
    "    elif nota == 5.0:\n",
    "        return \"Recuperação\"\n",
    "    else:\n",
    "        return \"Reprovado\"\n",
    "\n",
    "\n",
    "with open(\"notas.csv\", \"r\", encoding=\"utf-8\") as arquivo:\n",
    "    \n",
    "    # O reader cria um objeto iterável que transforma cada linha do CSV em uma lista.\n",
    "    leitor = csv.reader(arquivo)\n",
    "    \n",
    "    for linha in leitor:\n",
    "        print(linha)\n",
    "\n",
    "\n",
    "with open(\"relatorio.csv\", \"w\", newline='', encoding=\"utf-8\") as arquivo:\n",
    "    escritor = csv.writer(arquivo)\n",
    "    escritor.writerows(dados)\n",
    "    \n",
    "    with open('relatorio.csv', 'w', newline='', encoding='utf-8') as arquivo_saida:\n",
    "        campos = ['Nome', 'Nota', 'Situação']\n",
    "        escritor = csv.DictWriter(arquivo_saida, fieldnames=campos)\n",
    "        \n",
    "        escritor.writeheader()\n",
    "        \n",
    "        for linha in leitor:\n",
    "            nome = linha['Nome']\n",
    "            nota = float(linha['Nota'])\n",
    "            situacao = determinar_situacao(nota)\n",
    "            \n",
    "            escritor.writerow({'Nome': nome, 'Nota': nota, 'Situação': situacao})\n",
    "\n",
    "print(\"Relatório gerado com sucesso em 'relatorio.csv'\")\n",
    "\n"
   ]
  }
 ],
 "metadata": {
  "kernelspec": {
   "display_name": "Python 3",
   "language": "python",
   "name": "python3"
  },
  "language_info": {
   "codemirror_mode": {
    "name": "ipython",
    "version": 3
   },
   "file_extension": ".py",
   "mimetype": "text/x-python",
   "name": "python",
   "nbconvert_exporter": "python",
   "pygments_lexer": "ipython3",
   "version": "3.13.2"
  }
 },
 "nbformat": 4,
 "nbformat_minor": 5
}
