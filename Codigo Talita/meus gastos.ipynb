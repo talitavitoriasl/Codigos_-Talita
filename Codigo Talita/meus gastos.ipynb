{
 "cells": [
  {
   "cell_type": "code",
   "execution_count": null,
   "id": "784b9ab9",
   "metadata": {},
   "outputs": [],
   "source": []
  },
  {
   "cell_type": "markdown",
   "id": "b4ea913d",
   "metadata": {},
   "source": [
    "### CLT"
   ]
  },
  {
   "cell_type": "code",
   "execution_count": null,
   "id": "b37f5ce8",
   "metadata": {},
   "outputs": [],
   "source": [
    "Salario = 1200\n",
    "gasolina = 200\n",
    "internet = 200\n",
    "alimentos = 1500\n",
    "agua = 100\n",
    "luz = 300\n",
    "condominio = 570\n",
    "entreterimento = 1200\n",
    "\n",
    "quanto_sobra = -2,870"
   ]
  },
  {
   "cell_type": "code",
   "execution_count": null,
   "id": "05bcdd0c",
   "metadata": {},
   "outputs": [],
   "source": [
    "agua = \n",
    "luz = \n",
    "internet = \n",
    "salario = \n",
    "aluguel = \n"
   ]
  }
 ],
 "metadata": {
  "language_info": {
   "name": "python"
  }
 },
 "nbformat": 4,
 "nbformat_minor": 5
}
